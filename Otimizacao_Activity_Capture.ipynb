{
  "cells": [
    {
      "cell_type": "markdown",
      "metadata": {
        "id": "view-in-github",
        "colab_type": "text"
      },
      "source": [
        "<a href=\"https://colab.research.google.com/github/alsmattesco/Prametros_SBRTeSRS/blob/master/Otimizacao_Activity_Capture.ipynb\" target=\"_parent\"><img src=\"https://colab.research.google.com/assets/colab-badge.svg\" alt=\"Open In Colab\"/></a>"
      ]
    },
    {
      "cell_type": "markdown",
      "source": [
        "# Parte 1\n",
        "\n",
        "Importando bibliotecas e arquivos utilitários"
      ],
      "metadata": {
        "id": "qqNw6iPpTQrp"
      }
    },
    {
      "cell_type": "markdown",
      "source": [
        "Importar a biblioteca Pandas"
      ],
      "metadata": {
        "id": "oyjfoaw9MnUX"
      }
    },
    {
      "cell_type": "code",
      "execution_count": null,
      "metadata": {
        "id": "5ZmcPfSy-5TP"
      },
      "outputs": [],
      "source": [
        "import pandas as pd\n"
      ]
    },
    {
      "cell_type": "markdown",
      "source": [
        "Importar o arquivo Activity Capture"
      ],
      "metadata": {
        "id": "QrqR_GZkMqFe"
      }
    },
    {
      "cell_type": "code",
      "source": [
        "dados_brutos = pd.read_csv('/content/sample_data/09 - Activity Capture - Setembro.csv')"
      ],
      "metadata": {
        "id": "7ivck8DhMpl2"
      },
      "execution_count": null,
      "outputs": []
    },
    {
      "cell_type": "markdown",
      "source": [
        "\n",
        "\n",
        "---\n",
        "#Parte 2\n",
        "\n",
        "Filtrando para preenchimento da primeira parte - Planejamento\n",
        "\n"
      ],
      "metadata": {
        "id": "umXq0bPoTzhr"
      }
    },
    {
      "cell_type": "markdown",
      "source": [
        "Filtro para manter somente o item revisao de planejamento (numero 08) na coluna das atividades"
      ],
      "metadata": {
        "id": "-_1myFD7NNRr"
      }
    },
    {
      "cell_type": "code",
      "source": [
        "dados_filtrados_08 = dados_brutos[dados_brutos['Atividade'].str.contains('08', na=False)]\n"
      ],
      "metadata": {
        "id": "irOi4lZRN6Ia"
      },
      "execution_count": null,
      "outputs": []
    },
    {
      "cell_type": "markdown",
      "source": [
        "Filtro para deixar somente o item 'Numero de sessoes do curso' na coluna do codigo de procedimento."
      ],
      "metadata": {
        "id": "CJEsRxZPOHxs"
      }
    },
    {
      "cell_type": "code",
      "source": [
        "dados_AC_parte_1 = dados_filtrados_08.loc[dados_filtrados_08['Código do Procedimento'] == 'Numero de sessoes do curso - Numero de sessoes do curso']\n"
      ],
      "metadata": {
        "id": "D0vCjxZGOk0j"
      },
      "execution_count": null,
      "outputs": []
    },
    {
      "cell_type": "markdown",
      "source": [
        "Agrupando a tabela anterior para manter somente as duas colunas interessadas."
      ],
      "metadata": {
        "id": "ORupA48dO3A_"
      }
    },
    {
      "cell_type": "code",
      "source": [
        "grupo_parte_1 = dados_AC_parte_1.groupby(['Atividade','Código do Procedimento']).size().reset_index(name='Quantidade')"
      ],
      "metadata": {
        "id": "vfYNZjpiO6gv"
      },
      "execution_count": null,
      "outputs": []
    },
    {
      "cell_type": "markdown",
      "source": [
        "Salvando o arquivo em uma aba no excel para fazer o download, posteriormente em uma aba."
      ],
      "metadata": {
        "id": "jy3Uw2vKPZxz"
      }
    },
    {
      "cell_type": "code",
      "source": [
        "caminho_saida = \"analises.xlsx\"\n",
        "\n",
        "try:\n",
        "  with pd.ExcelWriter(caminho_saida, mode='a', if_sheet_exists='new') as writer:\n",
        "    grupo_parte_1.to_excel(writer, sheet_name=\"Planejamento\", index=False)\n",
        "except FileNotFoundError:\n",
        "  with pd.ExcelWriter(caminho_saida) as writer:\n",
        "    grupo_parte_1.to_excel(writer, sheet_name=\"Planejamento\", index=False)"
      ],
      "metadata": {
        "id": "oPXDum6AQH4A"
      },
      "execution_count": null,
      "outputs": []
    },
    {
      "cell_type": "markdown",
      "source": [
        "\n",
        "\n",
        "---\n",
        "\n",
        "# Parte 3\n",
        "\n",
        "Filtrando para preenchimento da segunda parte - Técnica\n",
        "\n"
      ],
      "metadata": {
        "id": "M7dQGddETLGG"
      }
    },
    {
      "cell_type": "code",
      "source": [
        "dados_filtrados_11 = dados_brutos[dados_brutos['Atividade'].str.contains('11', na=False)]\n"
      ],
      "metadata": {
        "id": "S-A5-oD1TmgI"
      },
      "execution_count": null,
      "outputs": []
    },
    {
      "cell_type": "markdown",
      "source": [
        "Filtro para deixar somente o item que possui a palavra tecnica no codigo do procedimento"
      ],
      "metadata": {
        "id": "93QIdzcgUVKA"
      }
    },
    {
      "cell_type": "code",
      "source": [
        "dados_AC_parte_2 = dados_filtrados_11.loc[dados_filtrados_11['Código do Procedimento'].str.contains('Tecnica', na=False)]\n"
      ],
      "metadata": {
        "id": "JxfbC8dkUjIh"
      },
      "execution_count": null,
      "outputs": []
    },
    {
      "cell_type": "markdown",
      "source": [
        "Agrupando a tabela anterior para manter somente as duas colunas interessadas"
      ],
      "metadata": {
        "id": "NEkNlg2QUoF6"
      }
    },
    {
      "cell_type": "code",
      "source": [
        "grupo_parte_2 = dados_AC_parte_2.groupby(['Código do Procedimento']).size().reset_index(name='Quantidade')\n"
      ],
      "metadata": {
        "id": "OkZNrpJWUsdL"
      },
      "execution_count": null,
      "outputs": []
    },
    {
      "cell_type": "markdown",
      "source": [
        "Inserindo na planilha analises em uma segunda aba chamada Técnica"
      ],
      "metadata": {
        "id": "AoM9VK2wVVIm"
      }
    },
    {
      "cell_type": "code",
      "source": [
        "try:\n",
        "  with pd.ExcelWriter(caminho_saida, mode='a', if_sheet_exists='new') as writer:\n",
        "    grupo_parte_2.to_excel(writer, sheet_name=\"Técnica\", index=False)\n",
        "except FileNotFoundError:\n",
        "  with pd.ExcelWriter(caminho_saida) as writer:\n",
        "    grupo_parte_2.to_excel(writer, sheet_name=\"Técnica\", index=False)"
      ],
      "metadata": {
        "id": "mmZfHFQdVbs9"
      },
      "execution_count": null,
      "outputs": []
    },
    {
      "cell_type": "markdown",
      "source": [
        "\n",
        "\n",
        "---\n",
        "\n",
        "# Parte 4\n",
        "\n",
        "Filtrando preenchimento da terceira parte - Braquiterapia"
      ],
      "metadata": {
        "id": "6XU3zZFsbndb"
      }
    },
    {
      "cell_type": "code",
      "source": [
        "dados_filtrados_HDR = dados_brutos[\n",
        "    dados_brutos['Atividade'].str.contains('07', na=False, regex=True) &\n",
        "    dados_brutos['Atividade'].str.contains('HDR', na=False, regex=True)\n",
        "]"
      ],
      "metadata": {
        "id": "gCLFiu1RbuiS"
      },
      "execution_count": null,
      "outputs": []
    },
    {
      "cell_type": "markdown",
      "source": [
        "Agrupando tabela anterior somente na atividade"
      ],
      "metadata": {
        "id": "VRRkIVPYcWwh"
      }
    },
    {
      "cell_type": "code",
      "source": [
        "grupo_parte_3 = dados_filtrados_HDR.groupby(['Código do Procedimento']).size().reset_index(name='Quantidade')"
      ],
      "metadata": {
        "id": "6EdpaZznc8dF"
      },
      "execution_count": null,
      "outputs": []
    },
    {
      "cell_type": "markdown",
      "source": [
        "Inserindo na planilha analises em uma terceira aba chamada Braquiterapia"
      ],
      "metadata": {
        "id": "AdBQFW1CdBnE"
      }
    },
    {
      "cell_type": "code",
      "source": [
        "try:\n",
        "  with pd.ExcelWriter(caminho_saida, mode='a', if_sheet_exists='new') as writer:\n",
        "    grupo_parte_3.to_excel(writer, sheet_name=\"Braquiterapia\", index=False)\n",
        "except FileNotFoundError:\n",
        "  with pd.ExcelWriter(caminho_saida) as writer:\n",
        "    grupo_parte_3.to_excel(writer, sheet_name=\"Braquiterapia\", index=False)"
      ],
      "metadata": {
        "id": "uSnx_9ChdUVg"
      },
      "execution_count": null,
      "outputs": []
    },
    {
      "cell_type": "markdown",
      "source": [
        "\n",
        "\n",
        "---\n",
        "\n",
        "# Parte 5\n",
        "\n",
        "Filtrando preenchimento da quarta parte - Complexidade\n"
      ],
      "metadata": {
        "id": "mlfeollJsink"
      }
    },
    {
      "cell_type": "code",
      "source": [
        "dados_filtrados_complexidade = dados_brutos[dados_brutos['Código do Procedimento'].str.contains('complexidade', na=False)]"
      ],
      "metadata": {
        "id": "D-HFwndvtkoK"
      },
      "execution_count": null,
      "outputs": []
    },
    {
      "cell_type": "markdown",
      "source": [
        "Agrupando a tabela anterior pela complexidade do caso e pelo código do procedimento."
      ],
      "metadata": {
        "id": "4C69-zMwvxBO"
      }
    },
    {
      "cell_type": "code",
      "source": [
        "grupo_parte_4 = dados_filtrados_complexidade.groupby(['Código do Procedimento', 'Quantidade']).size().reset_index(name='Quantidade dos casos')"
      ],
      "metadata": {
        "id": "cWscAQeDvu-3"
      },
      "execution_count": null,
      "outputs": []
    },
    {
      "cell_type": "markdown",
      "source": [
        "Adicionando a soma total da quantidade de casos para gerar uma porcentagem"
      ],
      "metadata": {
        "id": "_tv8xk1owirB"
      }
    },
    {
      "cell_type": "code",
      "source": [
        "soma_total = grupo_parte_4['Quantidade dos casos'].sum()\n",
        "\n",
        "linha_soma = pd.DataFrame({'Código do Procedimento': ['Total'], 'Quantidade': [None], 'Quantidade dos casos': [soma_total]})\n",
        "\n",
        "grupo_parte_4= pd.concat([grupo_parte_4, linha_soma], ignore_index=True)\n",
        "print(grupo_parte_4)"
      ],
      "metadata": {
        "colab": {
          "base_uri": "https://localhost:8080/"
        },
        "id": "ACtGmGYgwmaL",
        "outputId": "bcd28a04-40d8-4f76-c72c-f8cd0e75771d"
      },
      "execution_count": null,
      "outputs": [
        {
          "output_type": "stream",
          "name": "stdout",
          "text": [
            "             Código do Procedimento Quantidade  Quantidade dos casos\n",
            "0  Atividade - Grau de complexidade          1                    23\n",
            "1  Atividade - Grau de complexidade          2                    95\n",
            "2  Atividade - Grau de complexidade          3                    21\n",
            "3                             Total       None                   139\n"
          ]
        }
      ]
    },
    {
      "cell_type": "markdown",
      "source": [
        "Inserindo na planilha analises em uma quarta aba chamada complexidade"
      ],
      "metadata": {
        "id": "noGm7O1_v9r5"
      }
    },
    {
      "cell_type": "code",
      "source": [
        "try:\n",
        "  with pd.ExcelWriter(caminho_saida, mode='a', if_sheet_exists='new') as writer:\n",
        "    grupo_parte_4.to_excel(writer, sheet_name=\"Complexidade\", index=False)\n",
        "except FileNotFoundError:\n",
        "  with pd.ExcelWriter(caminho_saida) as writer:\n",
        "    grupo_parte_4.to_excel(writer, sheet_name=\"Complexidade\", index=False)"
      ],
      "metadata": {
        "id": "E0oTKw_pv9I6"
      },
      "execution_count": null,
      "outputs": []
    },
    {
      "cell_type": "markdown",
      "source": [
        "\n",
        "\n",
        "---\n",
        "# Parte 6\n",
        "\n",
        "Filtrando preenchimento da quinta parte - Tipo de CT (primeira vez ou replan)\n"
      ],
      "metadata": {
        "id": "fN_SUHNuy4Kt"
      }
    },
    {
      "cell_type": "code",
      "source": [
        "dados_filtrados_03 = dados_brutos[dados_brutos['Atividade'].str.contains('03', na=False)]"
      ],
      "metadata": {
        "id": "F2hWmXpVzDLe"
      },
      "execution_count": null,
      "outputs": []
    },
    {
      "cell_type": "markdown",
      "source": [
        "Agrupando tabela anterior para Atividade e Código de procedimento"
      ],
      "metadata": {
        "id": "A6Q_PiVZzYLK"
      }
    },
    {
      "cell_type": "code",
      "source": [
        "grupo_parte_5 = dados_filtrados_03.groupby(['Código do Procedimento']).size().reset_index(name='Quantidade')\n"
      ],
      "metadata": {
        "id": "6vNbe8aLzf2N"
      },
      "execution_count": null,
      "outputs": []
    },
    {
      "cell_type": "markdown",
      "source": [
        "Inserindo na planilha analises em uma quinta aba chamada Tipo CT"
      ],
      "metadata": {
        "id": "pkM6sDBezomd"
      }
    },
    {
      "cell_type": "code",
      "source": [
        "try:\n",
        "  with pd.ExcelWriter(caminho_saida, mode='a', if_sheet_exists='new') as writer:\n",
        "    grupo_parte_5.to_excel(writer, sheet_name=\"Tipo CT\", index=False)\n",
        "except FileNotFoundError:\n",
        "  with pd.ExcelWriter(caminho_saida) as writer:\n",
        "    grupo_parte_5.to_excel(writer, sheet_name=\"Tipo CT\", index=False)"
      ],
      "metadata": {
        "id": "V4vOt8p3ztD8"
      },
      "execution_count": null,
      "outputs": []
    },
    {
      "cell_type": "markdown",
      "source": [
        "\n",
        "\n",
        "---\n",
        "# Parte 7\n",
        "\n",
        "Filtro por Tipo de técnica\n",
        "Tirando grau de complexidade do código do procedimento"
      ],
      "metadata": {
        "id": "A-W2zRfQ5Fzz"
      }
    },
    {
      "cell_type": "code",
      "source": [
        "dados_filtrados_07 = dados_brutos[\n",
        "    (dados_brutos['Código do Procedimento'].str.contains('Tipo', na=False)) &\n",
        "    (dados_brutos['Atividade'].str.contains('07', na=False))\n",
        "]\n"
      ],
      "metadata": {
        "id": "2afibJCv5wUd"
      },
      "execution_count": null,
      "outputs": []
    },
    {
      "cell_type": "markdown",
      "source": [
        "Agrupando"
      ],
      "metadata": {
        "id": "dFrI79_w-lRb"
      }
    },
    {
      "cell_type": "code",
      "source": [
        "grupo_parte_6 = dados_filtrados_07.groupby(['Código do Procedimento']).size().reset_index(name='Quantidade')\n"
      ],
      "metadata": {
        "id": "DSfjYDqS-koc"
      },
      "execution_count": null,
      "outputs": []
    },
    {
      "cell_type": "markdown",
      "source": [
        "Adicionando na planilha"
      ],
      "metadata": {
        "id": "uqiBfQg1Ap6b"
      }
    },
    {
      "cell_type": "code",
      "source": [
        "try:\n",
        "  with pd.ExcelWriter(caminho_saida, mode='a', if_sheet_exists='new') as writer:\n",
        "    grupo_parte_6.to_excel(writer, sheet_name=\"Tipos de técnica\", index=False)\n",
        "except FileNotFoundError:\n",
        "  with pd.ExcelWriter(caminho_saida) as writer:\n",
        "    grupo_parte_6.to_excel(writer, sheet_name=\"Tipos de técnica\", index=False)"
      ],
      "metadata": {
        "id": "6dCoENBnATCO"
      },
      "execution_count": null,
      "outputs": []
    },
    {
      "cell_type": "markdown",
      "source": [
        "\n",
        "\n",
        "---\n",
        "\n",
        "# Parte 8\n",
        "\n",
        "Agendamento e consulta\n"
      ],
      "metadata": {
        "id": "vbn03dMSBUEz"
      }
    },
    {
      "cell_type": "code",
      "source": [
        "dados_filtrados_01 = dados_brutos[dados_brutos['Atividade'].str.contains('01', na=False)].copy()\n",
        "\n",
        "dados_filtrados_01['Código do Procedimento'] = dados_filtrados_01['Código do Procedimento'].fillna('Consulta Agendada')"
      ],
      "metadata": {
        "id": "iAkr6zLnBcPe"
      },
      "execution_count": null,
      "outputs": []
    },
    {
      "cell_type": "markdown",
      "source": [
        "Agrupando"
      ],
      "metadata": {
        "id": "9kdn0j_pBvjd"
      }
    },
    {
      "cell_type": "code",
      "source": [
        "grupo_parte_7 = dados_filtrados_01.groupby(['Código do Procedimento']).size().reset_index(name='Quantidade')\n",
        "print(grupo_parte_7)"
      ],
      "metadata": {
        "colab": {
          "base_uri": "https://localhost:8080/"
        },
        "id": "b59Zz0bwBbD0",
        "outputId": "314fff45-1a54-485d-a1db-ca9242f9a9d4"
      },
      "execution_count": null,
      "outputs": [
        {
          "output_type": "stream",
          "name": "stdout",
          "text": [
            "  Código do Procedimento  Quantidade\n",
            "0   Consulta - Fila Zero           4\n",
            "1      Consulta Agendada         117\n"
          ]
        }
      ]
    },
    {
      "cell_type": "markdown",
      "source": [
        "Adicionando uma linha de soma de todos agendamentos"
      ],
      "metadata": {
        "id": "mj6-MIDSEg3a"
      }
    },
    {
      "cell_type": "code",
      "source": [
        "soma_total_agendamentos = grupo_parte_7['Quantidade'].sum()\n",
        "\n",
        "linha_soma_agendamentos = pd.DataFrame({'Código do Procedimento': ['Total'], 'Quantidade': [soma_total_agendamentos]})\n",
        "\n",
        "grupo_parte_7= pd.concat([grupo_parte_7, linha_soma_agendamentos], ignore_index=True)\n"
      ],
      "metadata": {
        "id": "zmNVAabXEZnr"
      },
      "execution_count": null,
      "outputs": []
    },
    {
      "cell_type": "markdown",
      "source": [
        "Inserindo na planilha"
      ],
      "metadata": {
        "id": "scu4510nE9po"
      }
    },
    {
      "cell_type": "code",
      "source": [
        "try:\n",
        "  with pd.ExcelWriter(caminho_saida, mode='a', if_sheet_exists='new') as writer:\n",
        "    grupo_parte_7.to_excel(writer, sheet_name=\"Agendamentos\", index=False)\n",
        "except FileNotFoundError:\n",
        "  with pd.ExcelWriter(caminho_saida) as writer:\n",
        "    grupo_parte_7.to_excel(writer, sheet_name=\"Agendamentos\", index=False)"
      ],
      "metadata": {
        "id": "OD4oAq9NE_1r"
      },
      "execution_count": null,
      "outputs": []
    },
    {
      "cell_type": "markdown",
      "source": [
        "\n",
        "\n",
        "---\n",
        "# Parte 9\n",
        "\n",
        "Outros indicadores\n"
      ],
      "metadata": {
        "id": "Y3BX-c-mFoFV"
      }
    },
    {
      "cell_type": "code",
      "source": [
        "dados_filtrados_05 = dados_brutos[dados_brutos['Atividade'].str.contains('05', na=False)]\n",
        "\n",
        "dados_filtrados_05['Código do Procedimento'] = dados_filtrados_05['Código do Procedimento'].fillna('Sem Quimioterapia')"
      ],
      "metadata": {
        "colab": {
          "base_uri": "https://localhost:8080/"
        },
        "id": "B4kb2rvbFsCv",
        "outputId": "354e5f35-f1d0-4e40-b82e-cfa66face89b"
      },
      "execution_count": null,
      "outputs": [
        {
          "output_type": "stream",
          "name": "stderr",
          "text": [
            "<ipython-input-28-e4206743d669>:3: SettingWithCopyWarning: \n",
            "A value is trying to be set on a copy of a slice from a DataFrame.\n",
            "Try using .loc[row_indexer,col_indexer] = value instead\n",
            "\n",
            "See the caveats in the documentation: https://pandas.pydata.org/pandas-docs/stable/user_guide/indexing.html#returning-a-view-versus-a-copy\n",
            "  dados_filtrados_05['Código do Procedimento'] = dados_filtrados_05['Código do Procedimento'].fillna('Sem Quimioterapia')\n"
          ]
        }
      ]
    },
    {
      "cell_type": "markdown",
      "source": [
        "Agrupando"
      ],
      "metadata": {
        "id": "kLqjdkcnGRSI"
      }
    },
    {
      "cell_type": "code",
      "source": [
        "grupo_parte_8 = dados_filtrados_05.groupby(['Código do Procedimento']).size().reset_index(name='Quantidade')"
      ],
      "metadata": {
        "id": "2GnscxQBGSMn"
      },
      "execution_count": null,
      "outputs": []
    },
    {
      "cell_type": "markdown",
      "source": [
        "Adicionando uma linha de soma para realizar a porcentagem"
      ],
      "metadata": {
        "id": "zgGKzwiMHLEL"
      }
    },
    {
      "cell_type": "code",
      "source": [
        "soma_total_quimioterapia = grupo_parte_8['Quantidade'].sum()\n",
        "\n",
        "linha_soma_quimioterapia = pd.DataFrame({'Código do Procedimento': ['Total'], 'Quantidade': [soma_total_quimioterapia]})\n",
        "\n",
        "grupo_parte_8= pd.concat([grupo_parte_8, linha_soma_quimioterapia], ignore_index=True)"
      ],
      "metadata": {
        "id": "puLE4AZjHPyS"
      },
      "execution_count": null,
      "outputs": []
    },
    {
      "cell_type": "markdown",
      "source": [
        "Inserindo na planilha"
      ],
      "metadata": {
        "id": "zGFAoopyKD2Q"
      }
    },
    {
      "cell_type": "code",
      "source": [
        "try:\n",
        "  with pd.ExcelWriter(caminho_saida, mode='a', if_sheet_exists='new') as writer:\n",
        "    grupo_parte_8.to_excel(writer, sheet_name=\"Quimio Concomitante\", index=False)\n",
        "except FileNotFoundError:\n",
        "  with pd.ExcelWriter(caminho_saida) as writer:\n",
        "    grupo_parte_8.to_excel(writer, sheet_name=\"Quimio Concomitante\", index=False)"
      ],
      "metadata": {
        "id": "nEIoASk2KFs7"
      },
      "execution_count": null,
      "outputs": []
    },
    {
      "cell_type": "markdown",
      "source": [
        "\n",
        "\n",
        "---\n",
        "\n",
        "# Parte 10\n",
        "\n",
        "Continuação Outros indicadores\n"
      ],
      "metadata": {
        "id": "yS1GUum2KgUo"
      }
    },
    {
      "cell_type": "code",
      "source": [
        "dados_filtrados_00 = dados_brutos[dados_brutos['Atividade'].str.contains('00_Encaminhamento', na=False)]\n",
        "\n",
        "dados_filtrados_00['Código do Procedimento'] = dados_filtrados_00['Código do Procedimento'].fillna('Sem Pendencias')"
      ],
      "metadata": {
        "colab": {
          "base_uri": "https://localhost:8080/"
        },
        "id": "rm2UGw4bK7Aa",
        "outputId": "8eb6a769-f308-4856-99ff-4c2c4fcfbcde"
      },
      "execution_count": null,
      "outputs": [
        {
          "output_type": "stream",
          "name": "stderr",
          "text": [
            "<ipython-input-32-c8eccc6ab681>:3: SettingWithCopyWarning: \n",
            "A value is trying to be set on a copy of a slice from a DataFrame.\n",
            "Try using .loc[row_indexer,col_indexer] = value instead\n",
            "\n",
            "See the caveats in the documentation: https://pandas.pydata.org/pandas-docs/stable/user_guide/indexing.html#returning-a-view-versus-a-copy\n",
            "  dados_filtrados_00['Código do Procedimento'] = dados_filtrados_00['Código do Procedimento'].fillna('Sem Pendencias')\n"
          ]
        }
      ]
    },
    {
      "cell_type": "markdown",
      "source": [
        "Agrupando"
      ],
      "metadata": {
        "id": "Uz4si0C9LKM9"
      }
    },
    {
      "cell_type": "code",
      "source": [
        "grupo_parte_9 = dados_filtrados_00.groupby(['Código do Procedimento']).size().reset_index(name='Quantidade')"
      ],
      "metadata": {
        "id": "PdfjSH4fLLqn"
      },
      "execution_count": null,
      "outputs": []
    },
    {
      "cell_type": "markdown",
      "source": [
        "Adicionando uma linha de soma para realizar a porcentagem"
      ],
      "metadata": {
        "id": "gYjXfZ31LRMK"
      }
    },
    {
      "cell_type": "code",
      "source": [
        "soma_total_pendencia = grupo_parte_9['Quantidade'].sum()\n",
        "\n",
        "linha_soma_pendencia = pd.DataFrame({'Código do Procedimento': ['Total'], 'Quantidade': [soma_total_pendencia]})\n",
        "\n",
        "grupo_parte_9= pd.concat([grupo_parte_9, linha_soma_pendencia], ignore_index=True)"
      ],
      "metadata": {
        "id": "RKUwVLIGLUmj"
      },
      "execution_count": null,
      "outputs": []
    },
    {
      "cell_type": "markdown",
      "source": [
        "Inserindo na planilha"
      ],
      "metadata": {
        "id": "xMn3oIfuLeXO"
      }
    },
    {
      "cell_type": "code",
      "source": [
        "try:\n",
        "  with pd.ExcelWriter(caminho_saida, mode='a', if_sheet_exists='new') as writer:\n",
        "    grupo_parte_9.to_excel(writer, sheet_name=\"Pendencias\", index=False)\n",
        "except FileNotFoundError:\n",
        "  with pd.ExcelWriter(caminho_saida) as writer:\n",
        "    grupo_parte_9.to_excel(writer, sheet_name=\"Pendencias\", index=False)"
      ],
      "metadata": {
        "id": "hBCSfzK1Lfxt"
      },
      "execution_count": null,
      "outputs": []
    },
    {
      "cell_type": "markdown",
      "source": [
        "\n",
        "\n",
        "---\n",
        "# Parte 11\n",
        "\n",
        "**Desfecho Clínico**\n"
      ],
      "metadata": {
        "id": "Ci6U_AzjRhwy"
      }
    },
    {
      "cell_type": "code",
      "source": [
        "dados_filtrados_00_desfecho = dados_brutos[dados_brutos['Atividade'].str.contains('00_Desfecho', na=False)]\n",
        "\n",
        "dados_filtrados_00_desfecho['Código do Procedimento'] = dados_filtrados_00_desfecho['Código do Procedimento'].fillna('Sem Desfecho')"
      ],
      "metadata": {
        "colab": {
          "base_uri": "https://localhost:8080/"
        },
        "id": "WMeyTQCuRq7K",
        "outputId": "ae223531-8bcc-4c51-81c9-bd8821491dbd"
      },
      "execution_count": null,
      "outputs": [
        {
          "output_type": "stream",
          "name": "stderr",
          "text": [
            "<ipython-input-36-c8f828659052>:3: SettingWithCopyWarning: \n",
            "A value is trying to be set on a copy of a slice from a DataFrame.\n",
            "Try using .loc[row_indexer,col_indexer] = value instead\n",
            "\n",
            "See the caveats in the documentation: https://pandas.pydata.org/pandas-docs/stable/user_guide/indexing.html#returning-a-view-versus-a-copy\n",
            "  dados_filtrados_00_desfecho['Código do Procedimento'] = dados_filtrados_00_desfecho['Código do Procedimento'].fillna('Sem Desfecho')\n"
          ]
        }
      ]
    },
    {
      "cell_type": "markdown",
      "source": [
        "Agrupando"
      ],
      "metadata": {
        "id": "WDNSP-9zR6dM"
      }
    },
    {
      "cell_type": "code",
      "source": [
        "grupo_parte_10 = dados_filtrados_00_desfecho.groupby(['Código do Procedimento']).size().reset_index(name='Quantidade')\n"
      ],
      "metadata": {
        "id": "ww-w2H1JR7XA"
      },
      "execution_count": null,
      "outputs": []
    },
    {
      "cell_type": "markdown",
      "source": [
        "Adicionando um alinha de soma para realizar a porcentagem"
      ],
      "metadata": {
        "id": "l5Os8byNSDFw"
      }
    },
    {
      "cell_type": "code",
      "source": [
        "soma_total_desfecho = grupo_parte_10['Quantidade'].sum()\n",
        "\n",
        "linha_soma_desfecho = pd.DataFrame({'Código do Procedimento': ['Total'], 'Quantidade': [soma_total_desfecho]})\n",
        "\n",
        "grupo_parte_10= pd.concat([grupo_parte_10, linha_soma_desfecho], ignore_index=True)\n"
      ],
      "metadata": {
        "id": "KgcRQYEYSFzP"
      },
      "execution_count": null,
      "outputs": []
    },
    {
      "cell_type": "markdown",
      "source": [
        "Inserindo na planilha"
      ],
      "metadata": {
        "id": "ui4yiPF5SjM-"
      }
    },
    {
      "cell_type": "code",
      "source": [
        "try:\n",
        "  with pd.ExcelWriter(caminho_saida, mode='a', if_sheet_exists='new') as writer:\n",
        "    grupo_parte_10.to_excel(writer, sheet_name=\"Desfecho\", index=False)\n",
        "except FileNotFoundError:\n",
        "  with pd.ExcelWriter(caminho_saida) as writer:\n",
        "    grupo_parte_10.to_excel(writer, sheet_name=\"Desfecho\", index=False)"
      ],
      "metadata": {
        "id": "B2Y-Ud7XSkzm"
      },
      "execution_count": null,
      "outputs": []
    },
    {
      "cell_type": "markdown",
      "source": [
        "\n",
        "\n",
        "---\n",
        "\n",
        "# Parte 12\n",
        "\n",
        "Indicação Radioterapia"
      ],
      "metadata": {
        "id": "06hsJJzVTkZB"
      }
    },
    {
      "cell_type": "code",
      "source": [
        "dados_filtrados_02 = dados_brutos[dados_brutos['Atividade'].str.contains('02_Agendamento', na=False)]\n",
        "\n",
        "dados_filtrados_02['Código do Procedimento'] = dados_filtrados_02['Código do Procedimento'].fillna('Indicação indeterminada')"
      ],
      "metadata": {
        "colab": {
          "base_uri": "https://localhost:8080/"
        },
        "id": "RIzmup4bT56L",
        "outputId": "d4aad41e-7231-4cea-b402-7e06562eb347"
      },
      "execution_count": null,
      "outputs": [
        {
          "output_type": "stream",
          "name": "stderr",
          "text": [
            "<ipython-input-40-6a12db54f649>:3: SettingWithCopyWarning: \n",
            "A value is trying to be set on a copy of a slice from a DataFrame.\n",
            "Try using .loc[row_indexer,col_indexer] = value instead\n",
            "\n",
            "See the caveats in the documentation: https://pandas.pydata.org/pandas-docs/stable/user_guide/indexing.html#returning-a-view-versus-a-copy\n",
            "  dados_filtrados_02['Código do Procedimento'] = dados_filtrados_02['Código do Procedimento'].fillna('Indicação indeterminada')\n"
          ]
        }
      ]
    },
    {
      "cell_type": "markdown",
      "source": [
        "Agrupando"
      ],
      "metadata": {
        "id": "-YkA6ExqUgEN"
      }
    },
    {
      "cell_type": "code",
      "source": [
        "grupo_parte_11 = dados_filtrados_02.groupby(['Código do Procedimento']).size().reset_index(name='Quantidade')"
      ],
      "metadata": {
        "id": "_33b_votUhB0"
      },
      "execution_count": null,
      "outputs": []
    },
    {
      "cell_type": "markdown",
      "source": [
        "Adicionando linha da soma total"
      ],
      "metadata": {
        "id": "dqr032UxU6DC"
      }
    },
    {
      "cell_type": "code",
      "source": [
        "soma_total_indicacao = grupo_parte_11['Quantidade'].sum()\n",
        "\n",
        "linha_soma_indicacao = pd.DataFrame({'Código do Procedimento': ['Total'], 'Quantidade': [soma_total_indicacao]})\n",
        "\n",
        "grupo_parte_11= pd.concat([grupo_parte_11, linha_soma_indicacao], ignore_index=True)\n"
      ],
      "metadata": {
        "id": "3ONn9a4HU8Fi"
      },
      "execution_count": null,
      "outputs": []
    },
    {
      "cell_type": "markdown",
      "source": [
        "Inserindo na planilha"
      ],
      "metadata": {
        "id": "9hTKOQGNVS91"
      }
    },
    {
      "cell_type": "code",
      "source": [
        "try:\n",
        "  with pd.ExcelWriter(caminho_saida, mode='a', if_sheet_exists='new') as writer:\n",
        "    grupo_parte_11.to_excel(writer, sheet_name=\"Indicacao\", index=False)\n",
        "except FileNotFoundError:\n",
        "  with pd.ExcelWriter(caminho_saida) as writer:\n",
        "    grupo_parte_11.to_excel(writer, sheet_name=\"Indicacao\", index=False)"
      ],
      "metadata": {
        "id": "cxqifiCrVXJj"
      },
      "execution_count": null,
      "outputs": []
    }
  ],
  "metadata": {
    "colab": {
      "provenance": [],
      "authorship_tag": "ABX9TyO16ivmrRgD1u0i8PQwmxCB",
      "include_colab_link": true
    },
    "kernelspec": {
      "display_name": "Python 3",
      "name": "python3"
    },
    "language_info": {
      "name": "python"
    }
  },
  "nbformat": 4,
  "nbformat_minor": 0
}